{
 "cells": [
  {
   "cell_type": "markdown",
   "id": "94127879-6fee-4cae-89da-3e0a7bc086b0",
   "metadata": {},
   "source": [
    "# 2024/DSC/0098/SS"
   ]
  },
  {
   "cell_type": "markdown",
   "id": "c1b8450b-8ed5-4620-a8b8-268fec305199",
   "metadata": {},
   "source": [
    "# question five"
   ]
  },
  {
   "cell_type": "markdown",
   "id": "4bbae907-115d-4e4f-9134-28ac635791e9",
   "metadata": {},
   "source": [
    "# (i)"
   ]
  },
  {
   "cell_type": "code",
   "execution_count": 1,
   "id": "6b40c53b-9ff8-4afa-8196-2c731d7741d0",
   "metadata": {},
   "outputs": [],
   "source": [
    "import numpy as np"
   ]
  },
  {
   "cell_type": "code",
   "execution_count": 2,
   "id": "82d2a24c-aacc-4909-addd-657435b4b7a4",
   "metadata": {},
   "outputs": [
    {
     "data": {
      "text/plain": [
       "array([[1. , 0.2, 0.5],\n",
       "       [0.2, 1. , 0.8],\n",
       "       [0.5, 0.8, 1. ]])"
      ]
     },
     "execution_count": 2,
     "metadata": {},
     "output_type": "execute_result"
    }
   ],
   "source": [
    "p= np.array([[1,0.2,0.5],[0.2,1,0.8],[0.5,0.8,1]])\n",
    "p"
   ]
  },
  {
   "cell_type": "code",
   "execution_count": 3,
   "id": "7ea634e8-3cac-4633-93f9-3f47e035b5df",
   "metadata": {},
   "outputs": [
    {
     "data": {
      "text/plain": [
       "array([[1. , 0.2, 0.5],\n",
       "       [0.2, 1. , 0.8],\n",
       "       [0.5, 0.8, 1. ]])"
      ]
     },
     "execution_count": 3,
     "metadata": {},
     "output_type": "execute_result"
    }
   ],
   "source": [
    "p.T\n",
    "p"
   ]
  },
  {
   "cell_type": "markdown",
   "id": "864fe3f5-1370-43a1-88d3-2921f6c9b93e",
   "metadata": {},
   "source": [
    "# (ii)"
   ]
  },
  {
   "cell_type": "code",
   "execution_count": 4,
   "id": "55adf6b4-4ac0-4c6d-a983-aa4f5951fb7c",
   "metadata": {},
   "outputs": [
    {
     "data": {
      "text/plain": [
       "np.float64(0.2299999999999999)"
      ]
     },
     "execution_count": 4,
     "metadata": {},
     "output_type": "execute_result"
    }
   ],
   "source": [
    "p=np.linalg.det(p)\n",
    "p\n"
   ]
  },
  {
   "cell_type": "markdown",
   "id": "dfdc103b-4a1a-492f-9f25-acb124d4a0d0",
   "metadata": {},
   "source": [
    "# (iii)"
   ]
  },
  {
   "cell_type": "code",
   "execution_count": 5,
   "id": "43aa7da3-9541-44d5-832e-c4c9f5630276",
   "metadata": {},
   "outputs": [
    {
     "ename": "AttributeError",
     "evalue": "module 'numpy' has no attribute 'decompose'",
     "output_type": "error",
     "traceback": [
      "\u001b[1;31m---------------------------------------------------------------------------\u001b[0m",
      "\u001b[1;31mAttributeError\u001b[0m                            Traceback (most recent call last)",
      "Cell \u001b[1;32mIn[5], line 1\u001b[0m\n\u001b[1;32m----> 1\u001b[0m p\u001b[38;5;241m=\u001b[39m \u001b[43mnp\u001b[49m\u001b[38;5;241;43m.\u001b[39;49m\u001b[43mdecompose\u001b[49m\n\u001b[0;32m      2\u001b[0m p\n",
      "File \u001b[1;32m~\\AppData\\Local\\Programs\\Python\\Python312\\Lib\\site-packages\\numpy\\__init__.py:428\u001b[0m, in \u001b[0;36m__getattr__\u001b[1;34m(attr)\u001b[0m\n\u001b[0;32m    425\u001b[0m     \u001b[38;5;28;01mimport\u001b[39;00m \u001b[38;5;21;01mnumpy\u001b[39;00m\u001b[38;5;21;01m.\u001b[39;00m\u001b[38;5;21;01mchar\u001b[39;00m \u001b[38;5;28;01mas\u001b[39;00m \u001b[38;5;21;01mchar\u001b[39;00m\n\u001b[0;32m    426\u001b[0m     \u001b[38;5;28;01mreturn\u001b[39;00m char\u001b[38;5;241m.\u001b[39mchararray\n\u001b[1;32m--> 428\u001b[0m \u001b[38;5;28;01mraise\u001b[39;00m \u001b[38;5;167;01mAttributeError\u001b[39;00m(\u001b[38;5;124m\"\u001b[39m\u001b[38;5;124mmodule \u001b[39m\u001b[38;5;132;01m{!r}\u001b[39;00m\u001b[38;5;124m has no attribute \u001b[39m\u001b[38;5;124m\"\u001b[39m\n\u001b[0;32m    429\u001b[0m                      \u001b[38;5;124m\"\u001b[39m\u001b[38;5;132;01m{!r}\u001b[39;00m\u001b[38;5;124m\"\u001b[39m\u001b[38;5;241m.\u001b[39mformat(\u001b[38;5;18m__name__\u001b[39m, attr))\n",
      "\u001b[1;31mAttributeError\u001b[0m: module 'numpy' has no attribute 'decompose'"
     ]
    }
   ],
   "source": [
    "p= np.decompose\n",
    "p"
   ]
  },
  {
   "cell_type": "markdown",
   "id": "03c3fa5e-937c-441c-9d13-af2555949027",
   "metadata": {},
   "source": [
    "# (iv)"
   ]
  },
  {
   "cell_type": "code",
   "execution_count": null,
   "id": "4d6e7687-9a52-4fc6-9b5b-17e7f7d0f8fe",
   "metadata": {},
   "outputs": [],
   "source": [
    "p = np.linalg.T\n",
    "P"
   ]
  },
  {
   "cell_type": "markdown",
   "id": "c3836fa1-4edd-4bcf-8c7c-c62db1dd6f86",
   "metadata": {},
   "source": [
    "# question 6"
   ]
  },
  {
   "cell_type": "markdown",
   "id": "6059380b-ccb3-423c-a7f4-940223fa36d7",
   "metadata": {},
   "source": [
    "# (i)"
   ]
  },
  {
   "cell_type": "code",
   "execution_count": null,
   "id": "972a86d6-1bb1-4d24-820e-bd0b22ae37df",
   "metadata": {},
   "outputs": [],
   "source": [
    "from numpy import random"
   ]
  },
  {
   "cell_type": "code",
   "execution_count": null,
   "id": "1343fb5d-9793-47be-b88d-496dc9e0772c",
   "metadata": {},
   "outputs": [],
   "source": [
    "import numpy as np"
   ]
  },
  {
   "cell_type": "code",
   "execution_count": 11,
   "id": "b4cb47ed-7090-4fb3-b961-cb5f33803bdc",
   "metadata": {},
   "outputs": [
    {
     "data": {
      "text/plain": [
       "array([ 4,  6,  4,  4,  6,  2,  5,  6,  2,  6,  3,  3,  4,  4,  4,  1,  9,\n",
       "        4,  3,  2,  5,  9,  4,  8,  6,  3,  7,  5,  4,  3,  7,  7,  5,  2,\n",
       "       10,  1,  3,  0,  5,  8,  4,  6,  7,  4,  4,  5,  4,  6,  1,  4,  7,\n",
       "        1,  9,  3,  5,  7,  8,  3,  4,  4,  8,  3,  3,  3,  8,  4,  5,  5,\n",
       "        7,  6,  4,  0,  9,  7,  2,  1,  1,  4,  5,  3,  2,  3,  7,  8,  4,\n",
       "        9,  4,  4,  6,  3,  9,  9,  5,  2,  3,  7,  6,  8,  4, 10,  5,  7,\n",
       "        6,  4,  7,  3,  0,  4,  3,  6,  7, 12,  4,  3,  4,  5,  5,  3,  4,\n",
       "        2,  3,  6,  4, 11,  3,  7,  6,  4,  5,  5,  4,  2,  3,  3,  4,  7,\n",
       "        1,  6,  3,  5,  4,  4,  6,  7,  8,  5,  3,  8,  1,  7,  3,  0,  3,\n",
       "        6,  1,  4,  6,  3,  6,  7,  2,  3,  4, 10,  5,  5,  7, 11,  6,  3,\n",
       "        7,  3,  5,  5,  5,  8,  3,  7,  3,  4,  4,  6,  8,  4,  3,  5,  6,\n",
       "        7,  6,  2,  2,  3,  4,  1,  8,  6,  6, 11,  5,  8,  8,  5,  7,  1,\n",
       "        8,  9,  5,  1,  5,  5,  2,  8,  3, 10,  4,  3,  2,  6,  4,  5, 10,\n",
       "        2,  1,  3,  4,  5,  2,  4,  5,  7,  1,  2,  2,  7,  6,  8,  5,  9,\n",
       "        7,  4,  5,  7,  5,  2,  3,  2,  5,  4,  9,  3,  4,  2,  6,  3,  3,\n",
       "        5,  9,  5,  2,  5,  1,  6,  3,  8,  9,  8,  2,  2,  5,  2,  7,  4,\n",
       "        3,  3,  6,  8,  6,  5,  4,  6,  4,  3,  7,  8,  2,  8,  4,  2,  5,\n",
       "        4,  0,  6,  4,  3,  8,  6,  5,  1,  6,  7,  3,  7,  5,  5,  1,  4,\n",
       "        6,  7,  5,  9,  6,  6,  4,  3,  4,  6, 10,  7,  6,  8,  6,  4,  9,\n",
       "        7,  4,  2,  4,  8,  3,  7,  8,  8,  8,  1,  6,  3,  5,  6,  4,  9,\n",
       "        3,  1,  6,  6,  7,  3,  3,  9,  2,  3,  4,  3,  4,  3,  3,  3,  2,\n",
       "        3,  3,  7,  6,  6,  7,  5,  6,  3,  2,  6,  6,  2,  8,  8,  2,  2,\n",
       "        1,  3,  2,  4,  3,  4,  4,  8,  3,  7,  1,  8,  6,  2,  4,  8,  3,\n",
       "        5,  5,  3,  8,  4,  5,  5,  4,  6,  4,  3,  9,  3,  7,  3,  5,  7,\n",
       "        4,  7,  5,  7,  6, 11,  6,  7,  3,  3,  7,  3,  6,  2,  7,  7,  3,\n",
       "        7,  9,  8,  4,  2,  7,  3,  6,  0,  9,  7,  6,  2,  3,  5,  5,  0,\n",
       "        5,  5,  6,  6,  6,  1,  0,  5,  2,  4,  5,  7,  6,  6,  7,  8,  5,\n",
       "        8,  5,  4,  3,  8,  4,  9,  3, 10,  3,  2,  4,  2,  4,  4,  7,  4,\n",
       "        2,  5,  3,  4,  8,  1,  5,  6,  3,  5,  2,  2,  4,  6,  4,  8,  3,\n",
       "        8,  4,  7,  5,  4,  9,  7,  6,  6,  8,  6,  4,  7,  3,  5,  3,  3,\n",
       "        0,  7,  4,  3,  5,  8,  5,  7,  4,  6,  4,  7,  5,  7,  4,  7,  4,\n",
       "        4,  7,  9,  3,  6,  5,  5,  5,  4,  8,  4,  4,  4,  3,  8,  6,  8,\n",
       "        7,  5, 10,  6,  4,  8,  3,  3,  6,  6,  5,  6,  6,  4,  8,  3,  5,\n",
       "        7,  9,  5,  7,  6,  4,  7,  4,  3,  4,  4,  3,  7,  5, 10,  7,  5,\n",
       "        9,  5,  9,  7,  7,  6,  4,  2,  5,  2,  3,  4,  4,  3,  7,  6,  8,\n",
       "        4,  6,  2,  3,  6,  5,  4,  3,  7,  6, 10,  6, 11,  5,  6,  6,  6,\n",
       "        2, 11,  5,  5,  5,  7,  3,  6,  3,  5,  7,  3,  4,  6,  8,  5,  9,\n",
       "        2,  7,  5,  5,  1,  7,  2,  6,  2,  2,  6,  6,  1, 11,  0,  6,  5,\n",
       "        4,  2,  5,  2,  6,  6,  7,  6,  8,  0,  4,  7,  5,  2,  3,  6,  5,\n",
       "        5,  2,  7,  3,  3,  6,  9,  7,  7,  7,  5,  6,  6,  1,  4,  5,  3,\n",
       "        9,  5,  6,  7,  6,  3,  8,  7,  4,  4,  6,  7,  3,  7,  4,  5,  3,\n",
       "        4,  1,  5,  5,  3,  5,  4,  1,  3,  3,  5,  8,  4,  5,  4,  5,  4,\n",
       "        5, 10,  2,  9,  1,  8,  4,  7,  3,  3,  5,  8,  4,  8,  4,  2,  1,\n",
       "        4,  6,  5,  2,  6,  4,  8,  5,  4,  6,  6,  1,  6,  3,  3,  3,  9,\n",
       "        5,  3,  4,  7,  6,  2,  1,  2,  5,  4,  2,  8,  3,  5,  5,  6,  7,\n",
       "        3,  6,  8,  7,  2,  3,  6,  4,  9,  9,  4,  7,  5,  5,  8,  5,  5,\n",
       "        6,  5,  1,  9,  6,  8,  3,  4,  7,  4,  7,  8,  4,  5,  4,  3,  4,\n",
       "        6,  5,  6,  5,  2,  7,  4, 10,  4,  5,  4,  7,  9,  6,  7,  3,  6,\n",
       "        3,  7,  5,  2,  6,  4,  3,  5,  2,  4,  5,  6,  6,  4,  5,  4,  7,\n",
       "        3,  5,  6,  5,  3,  5,  4,  5,  4,  8,  2,  0,  3,  6,  4,  4,  3,\n",
       "        5,  8,  9,  4,  4,  5,  4,  7,  2,  2,  4,  6,  4,  7,  6,  7,  5,\n",
       "        3,  7,  5,  6,  6,  9,  5,  5,  7,  4,  5,  7,  6,  7, 10,  3,  3,\n",
       "        8,  2,  5,  5,  8,  1,  5,  2,  7,  6,  3,  3,  5,  7,  5,  3,  5,\n",
       "        3,  9,  7,  4,  6,  4, 11,  5,  7,  4,  6,  4,  2,  3,  8,  3,  5,\n",
       "        2,  6,  4,  5,  9,  6,  4,  4,  4,  5,  2,  8,  7,  7,  5,  3,  1,\n",
       "        4,  4,  5,  7,  4,  7,  6,  4,  6,  2,  6,  5,  1,  3,  4,  6,  5,\n",
       "        3,  4, 10,  2,  6,  5,  2,  6,  8,  4,  3,  4,  1,  7,  3,  1,  7,\n",
       "        7,  3,  2,  1,  3,  6,  7,  4,  4,  4,  5,  9,  1,  5,  1,  5,  3,\n",
       "        1,  1,  4,  5,  4,  6, 10,  1,  4,  6,  6,  5,  8,  2],\n",
       "      dtype=int32)"
      ]
     },
     "execution_count": 11,
     "metadata": {},
     "output_type": "execute_result"
    }
   ],
   "source": [
    "x= random.poisson(lam=5,size=1000)\n",
    "x"
   ]
  },
  {
   "cell_type": "markdown",
   "id": "a5afc32b-58f1-4b58-b781-4eb5abc5f091",
   "metadata": {},
   "source": [
    "# (ii)"
   ]
  },
  {
   "cell_type": "code",
   "execution_count": 18,
   "id": "160c4f52-d24e-4b0d-b535-2d558ff900f2",
   "metadata": {},
   "outputs": [
    {
     "data": {
      "text/plain": [
       "np.float64(4.934)"
      ]
     },
     "execution_count": 18,
     "metadata": {},
     "output_type": "execute_result"
    }
   ],
   "source": [
    "x = x.mean()\n",
    "x"
   ]
  },
  {
   "cell_type": "code",
   "execution_count": 19,
   "id": "b871d597-6308-4cc8-896a-c38b9b2c5957",
   "metadata": {},
   "outputs": [
    {
     "data": {
      "text/plain": [
       "np.float64(0.0)"
      ]
     },
     "execution_count": 19,
     "metadata": {},
     "output_type": "execute_result"
    }
   ],
   "source": [
    "x = x.var()\n",
    "x"
   ]
  },
  {
   "cell_type": "markdown",
   "id": "05df3322-512d-4c67-90c4-b65e99145469",
   "metadata": {},
   "source": [
    "# (iii"
   ]
  },
  {
   "cell_type": "code",
   "execution_count": 26,
   "id": "f2584e20-305b-4909-ae50-f671d65ab5c9",
   "metadata": {},
   "outputs": [],
   "source": [
    "import matplotlib.pyplot as plt"
   ]
  },
  {
   "cell_type": "code",
   "execution_count": 27,
   "id": "557e53d1-9ea8-4826-948d-f9b5cd639308",
   "metadata": {},
   "outputs": [],
   "source": [
    "from numpy import random"
   ]
  },
  {
   "cell_type": "code",
   "execution_count": 28,
   "id": "d67a161b-617b-4b39-a2a1-4fc7fda2b6dd",
   "metadata": {},
   "outputs": [],
   "source": [
    "import seaborn as sns"
   ]
  },
  {
   "cell_type": "code",
   "execution_count": 34,
   "id": "cb4a8327-dc15-4c42-a555-6a6239abcfe1",
   "metadata": {},
   "outputs": [
    {
     "data": {
      "image/png": "[encoded data removed]",
      "text/plain": [
       "<Figure size 640x480 with 1 Axes>"
      ]
     },
     "metadata": {},
     "output_type": "display_data"
    }
   ],
   "source": [
    "poissson_data=random.poisson(lam=2, size=2)\n",
    "sns.histplot(poisson_data,bins=10, kde=False,color=\"orange\")\n",
    "plt.xlabel(\"number of customer arrivals\")\n",
    "plt.ylabel(\"frequency\")\n",
    "plt.title(\" histogram of samples to visualize the distribution\" )\n",
    "plt.show()"
   ]
  },
  {
   "cell_type": "code",
   "execution_count": null,
   "id": "867098ad-ac55-401a-b966-82ae37bb7cfe",
   "metadata": {},
   "outputs": [],
   "source": []
  }
 ],
 "metadata": {
  "kernelspec": {
   "display_name": "Python 3 (ipykernel)",
   "language": "python",
   "name": "python3"
  },
  "language_info": {
   "codemirror_mode": {
    "name": "ipython",
    "version": 3
   },
   "file_extension": ".py",
   "mimetype": "text/x-python",
   "name": "python",
   "nbconvert_exporter": "python",
   "pygments_lexer": "ipython3",
   "version": "3.12.6"
  }
 },
 "nbformat": 4,
 "nbformat_minor": 5
}
